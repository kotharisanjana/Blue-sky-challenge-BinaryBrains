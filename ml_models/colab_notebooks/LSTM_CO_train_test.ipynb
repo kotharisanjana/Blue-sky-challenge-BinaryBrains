{
  "cells": [
    {
      "cell_type": "markdown",
      "source": [
        "Imports"
      ],
      "metadata": {
        "id": "wgTXOfP8Xoj-"
      },
      "id": "wgTXOfP8Xoj-"
    },
    {
      "cell_type": "code",
      "execution_count": null,
      "id": "4e2e093d",
      "metadata": {
        "id": "4e2e093d"
      },
      "outputs": [],
      "source": [
        "# Import modules\n",
        "import numpy as np\n",
        "import pandas as pd\n",
        "import datetime\n",
        "import matplotlib.pyplot as plt\n",
        "from tensorflow.keras.models import Sequential  \n",
        "from tensorflow.keras.layers import Dense, LSTM, Dropout  \n",
        "from tensorflow.keras.callbacks import EarlyStopping, ModelCheckpoint, ReduceLROnPlateau\n",
        "from tensorflow.keras.models import load_model\n",
        "from sklearn.metrics import mean_absolute_percentage_error\n",
        "import statistics"
      ]
    },
    {
      "cell_type": "markdown",
      "id": "7cbcb4b8",
      "metadata": {
        "id": "7cbcb4b8"
      },
      "source": [
        "Dataset"
      ]
    },
    {
      "cell_type": "code",
      "execution_count": null,
      "id": "30979b8a",
      "metadata": {
        "id": "30979b8a"
      },
      "outputs": [],
      "source": [
        "# read data\n",
        "dt = pd.read_csv('AirQuality.csv', delimiter = ';', decimal = ',')\n",
        "\n",
        "# Get date_time columns\n",
        "dt['Date_'] = pd.to_datetime(dt['Date'])\n",
        "dt['Date_time'] = dt['Date_'].dt.strftime('%d/%m/%Y')\n",
        "dt['Date_'] = pd.to_datetime(dt['Date_time'])\n",
        "\n",
        "# Get required rows\n",
        "dt_comp = dt[6:342]"
      ]
    },
    {
      "cell_type": "markdown",
      "id": "7501444e",
      "metadata": {
        "id": "7501444e"
      },
      "source": [
        "Data Preprocessing"
      ]
    },
    {
      "cell_type": "code",
      "execution_count": null,
      "id": "bfc6a0bd",
      "metadata": {
        "id": "bfc6a0bd"
      },
      "outputs": [],
      "source": [
        "dt_co = dt_comp[['Date_', 'Time', 'CO(GT)']]\n",
        "dt_co.reset_index(inplace = True)"
      ]
    },
    {
      "cell_type": "code",
      "execution_count": null,
      "id": "51168ec9",
      "metadata": {
        "id": "51168ec9"
      },
      "outputs": [],
      "source": [
        "# Imputing missing values with average of previous and next value for CO\n",
        "def replace_anomalies(data):\n",
        "    for i in range(len(data)):\n",
        "        if data.iloc[i]['CO(GT)'] == -200:\n",
        "            value_replace = (data.iloc[i-1]['CO(GT)'] + data.iloc[i+1]['CO(GT)'])/2\n",
        "            data.loc[i, 'CO(GT)'] = value_replace\n",
        "    return data"
      ]
    },
    {
      "cell_type": "code",
      "execution_count": null,
      "id": "c9649aee",
      "metadata": {
        "id": "c9649aee"
      },
      "outputs": [],
      "source": [
        "# Preprocessing for date and time columns\n",
        "def generate_hour_date(data):\n",
        "    for i in range(len(data)):\n",
        "        hour_ = int(data['Time'][i][:2])\n",
        "        dum_replace = data.loc[i, 'Date_'].replace(hour = hour_)\n",
        "        data.loc[i, 'Date_'] = dum_replace\n",
        "    return data"
      ]
    },
    {
      "cell_type": "code",
      "execution_count": null,
      "id": "bb6f6ba5",
      "metadata": {
        "id": "bb6f6ba5"
      },
      "outputs": [],
      "source": [
        "dt_co_2 = replace_anomalies(dt_co)\n",
        "dt_clean = generate_hour_date(dt_co_2)"
      ]
    },
    {
      "cell_type": "code",
      "execution_count": null,
      "id": "17c27562",
      "metadata": {
        "id": "17c27562"
      },
      "outputs": [],
      "source": [
        "# Get required columns\n",
        "dt_clean_pr = dt_clean[['Date_', 'CO(GT)']]"
      ]
    },
    {
      "cell_type": "code",
      "execution_count": null,
      "id": "a5856952",
      "metadata": {
        "id": "a5856952"
      },
      "outputs": [],
      "source": [
        "# Create time series data\n",
        "dt_ts = pd.Series(dt_clean_pr['CO(GT)'].values, index = dt_clean_pr['Date_'])\n",
        "\n",
        "# Reshape input df\n",
        "dt_ts_reshape = pd.Series(dt_ts.values.reshape(-1,))"
      ]
    },
    {
      "cell_type": "markdown",
      "id": "65fcc143",
      "metadata": {
        "id": "65fcc143"
      },
      "source": [
        "Model to predict Carbon Monoxide"
      ]
    },
    {
      "cell_type": "code",
      "execution_count": null,
      "id": "8e5beff9",
      "metadata": {
        "id": "8e5beff9"
      },
      "outputs": [],
      "source": [
        "# split a univariate sequence into samples\n",
        "def split_sequence(sequence, n_steps):\n",
        "    X, y = list(), list()\n",
        "    for i in range(len(sequence)):\n",
        "    # find the end of this pattern\n",
        "        end_ix = i + n_steps\n",
        "        # check if we are beyond the sequence\n",
        "        if end_ix > len(sequence)-1:\n",
        "            break\n",
        "        # gather input and output parts of the pattern\n",
        "        seq_x, seq_y = sequence[i:end_ix], sequence[end_ix]\n",
        "        X.append(seq_x)\n",
        "        y.append(seq_y)\n",
        "    return np.array(X), np.array(y)"
      ]
    },
    {
      "cell_type": "code",
      "execution_count": null,
      "id": "7b16c413",
      "metadata": {
        "id": "7b16c413"
      },
      "outputs": [],
      "source": [
        "def data_sequences(ts_values):\n",
        "    X_t, y_t = split_sequence(ts_values, n_steps)\n",
        "    return X_t, y_t"
      ]
    },
    {
      "cell_type": "code",
      "execution_count": null,
      "id": "a76aa003",
      "metadata": {
        "id": "a76aa003"
      },
      "outputs": [],
      "source": [
        "# train --> 6 days\n",
        "# val --> 1 day\n",
        "# forecast --> 1 day"
      ]
    },
    {
      "cell_type": "code",
      "execution_count": null,
      "id": "0fd46af0",
      "metadata": {
        "id": "0fd46af0"
      },
      "outputs": [],
      "source": [
        "def train_test_sequences(X_t, y_t):\n",
        "    X_t_train, y_t_train = X_t[:144-n_steps], y_t[:144-n_steps]\n",
        "    X_t_val, y_t_val = X_t[144-n_steps:], y_t[144-n_steps:]\n",
        "    return X_t_train, y_t_train, X_t_val, y_t_val"
      ]
    },
    {
      "cell_type": "code",
      "execution_count": null,
      "id": "8e134058",
      "metadata": {
        "id": "8e134058"
      },
      "outputs": [],
      "source": [
        "# define model\n",
        "def TS_model(units_):\n",
        "    \n",
        "    model = Sequential()  \n",
        "    model.add(LSTM(units=units_, input_shape=(n_steps, 1), activation = 'relu'))  \n",
        "    model.add(Dropout(0.2))\n",
        "    \n",
        "#     model.add(LSTM(units=units_, activation = 'relu', return_sequences = True))  \n",
        "#     model.add(Dropout(0.2))\n",
        "    \n",
        "#     model.add(LSTM(units=units_, activation = 'relu'))  \n",
        "#     model.add(Dropout(0.2))\n",
        "      \n",
        "    model.add(Dense(units = 1))  \n",
        "    \n",
        "    model.compile(optimizer = 'adam', loss = 'mean_absolute_percentage_error')\n",
        "    return model"
      ]
    },
    {
      "cell_type": "code",
      "execution_count": null,
      "id": "9f07b4ae",
      "metadata": {
        "id": "9f07b4ae"
      },
      "outputs": [],
      "source": [
        "# train model function\n",
        "def train_model(model, batch_size_, idx):\n",
        "    earlyStopping = EarlyStopping(monitor='val_loss', patience=500, verbose=0, mode='min')\n",
        "    mcp_save = ModelCheckpoint('co_model_%s.hdf5'%idx, save_best_only=True, \n",
        "                           monitor='val_loss', mode='min')\n",
        "    reduce_lr_loss = ReduceLROnPlateau(monitor='val_loss', factor=0.1, patience=50, \n",
        "                                       verbose=1, min_delta=1e-4, mode='min')\n",
        "    \n",
        "    mod_trained = model.fit(X_t_train, y_t_train, epochs = 100, validation_data = (X_t_val, y_t_val), \n",
        "              batch_size = batch_size_, verbose = 2,\n",
        "              callbacks=[earlyStopping, mcp_save, reduce_lr_loss]\n",
        "             )\n",
        "    return mod_trained"
      ]
    },
    {
      "cell_type": "code",
      "execution_count": null,
      "id": "de5610de",
      "metadata": {
        "id": "de5610de"
      },
      "outputs": [],
      "source": [
        "# params\n",
        "n_steps = 15\n",
        "units = 50\n",
        "batch_size = 16\n",
        "\n",
        "\n",
        "# train model\n",
        "\n",
        "start = datetime.datetime.now()\n",
        "\n",
        "ts_model = TS_model(units)\n",
        "\n",
        "mape_list = []\n",
        "mod_list = []\n",
        "pred_all = []\n",
        "\n",
        "\n",
        "for day_idx in range(7):\n",
        "    X_t, y_t = data_sequences(dt_ts_reshape[24*day_idx:24*(day_idx+7)].values)\n",
        "    X_t_train, y_t_train, X_t_val, y_t_val = train_test_sequences(X_t, y_t)    \n",
        "    \n",
        "    mod_trained = train_model(ts_model, batch_size, day_idx)\n",
        "    best_model = load_model('co_model_%s.hdf5'%day_idx)\n",
        "    mod_list.append(best_model)\n",
        "    \n",
        "    X_t_test, y_t_test = data_sequences(dt_ts_reshape[24*(day_idx+7)-n_steps:24*(day_idx+8)].values)\n",
        "\n",
        "    pred = best_model.predict(X_t_test)\n",
        "    mape = mean_absolute_percentage_error(y_t_test, pred)\n",
        "    \n",
        "    pred_all.extend(pred)\n",
        "    mape_list.append(mape)\n",
        "            \n",
        "    print('Forecasting for %s done, train and val set used is from %s until %s'%(dt_ts.index[24*(day_idx+7)].date(), dt_ts.index[24*(day_idx)].date(), dt_ts.index[24*(day_idx+6)].date()))\n",
        "            \n",
        "            \n",
        "print(\"time needed for all process --> \", datetime.datetime.now()-start)"
      ]
    },
    {
      "cell_type": "code",
      "execution_count": null,
      "id": "72ef8233",
      "metadata": {
        "id": "72ef8233",
        "outputId": "c3029961-9e8c-479d-f632-4c5f9c641efa"
      },
      "outputs": [
        {
          "name": "stdout",
          "output_type": "stream",
          "text": [
            "Model: \"sequential_1\"\n",
            "_________________________________________________________________\n",
            " Layer (type)                Output Shape              Param #   \n",
            "=================================================================\n",
            " lstm_1 (LSTM)               (None, 50)                10400     \n",
            "                                                                 \n",
            " dropout_1 (Dropout)         (None, 50)                0         \n",
            "                                                                 \n",
            " dense_1 (Dense)             (None, 1)                 51        \n",
            "                                                                 \n",
            "=================================================================\n",
            "Total params: 10,451\n",
            "Trainable params: 10,451\n",
            "Non-trainable params: 0\n",
            "_________________________________________________________________\n"
          ]
        }
      ],
      "source": [
        "mod_list[0].summary()"
      ]
    },
    {
      "cell_type": "code",
      "execution_count": null,
      "id": "7e8e3be7",
      "metadata": {
        "id": "7e8e3be7"
      },
      "outputs": [],
      "source": [
        "# Get list of test dates\n",
        "date_list = [str(dt_ts.index[24*(day_idx+7)].date()) for day_idx in range(7)]"
      ]
    },
    {
      "cell_type": "code",
      "execution_count": null,
      "id": "9354fd13",
      "metadata": {
        "id": "9354fd13",
        "outputId": "f692c419-194e-4ba5-ad66-dbffa53d9afd"
      },
      "outputs": [
        {
          "data": {
            "text/html": [
              "<div>\n",
              "<style scoped>\n",
              "    .dataframe tbody tr th:only-of-type {\n",
              "        vertical-align: middle;\n",
              "    }\n",
              "\n",
              "    .dataframe tbody tr th {\n",
              "        vertical-align: top;\n",
              "    }\n",
              "\n",
              "    .dataframe thead th {\n",
              "        text-align: right;\n",
              "    }\n",
              "</style>\n",
              "<table border=\"1\" class=\"dataframe\">\n",
              "  <thead>\n",
              "    <tr style=\"text-align: right;\">\n",
              "      <th></th>\n",
              "      <th>Date</th>\n",
              "      <th>MAPE</th>\n",
              "    </tr>\n",
              "  </thead>\n",
              "  <tbody>\n",
              "    <tr>\n",
              "      <th>0</th>\n",
              "      <td>2004-03-18</td>\n",
              "      <td>0.259470</td>\n",
              "    </tr>\n",
              "    <tr>\n",
              "      <th>1</th>\n",
              "      <td>2004-03-19</td>\n",
              "      <td>0.198947</td>\n",
              "    </tr>\n",
              "    <tr>\n",
              "      <th>2</th>\n",
              "      <td>2004-03-20</td>\n",
              "      <td>0.220511</td>\n",
              "    </tr>\n",
              "    <tr>\n",
              "      <th>3</th>\n",
              "      <td>2004-03-21</td>\n",
              "      <td>0.176077</td>\n",
              "    </tr>\n",
              "    <tr>\n",
              "      <th>4</th>\n",
              "      <td>2004-03-22</td>\n",
              "      <td>0.369441</td>\n",
              "    </tr>\n",
              "    <tr>\n",
              "      <th>5</th>\n",
              "      <td>2004-03-23</td>\n",
              "      <td>0.285708</td>\n",
              "    </tr>\n",
              "    <tr>\n",
              "      <th>6</th>\n",
              "      <td>2004-03-24</td>\n",
              "      <td>0.200177</td>\n",
              "    </tr>\n",
              "    <tr>\n",
              "      <th>7</th>\n",
              "      <td>Average</td>\n",
              "      <td>0.244333</td>\n",
              "    </tr>\n",
              "  </tbody>\n",
              "</table>\n",
              "</div>"
            ],
            "text/plain": [
              "         Date      MAPE\n",
              "0  2004-03-18  0.259470\n",
              "1  2004-03-19  0.198947\n",
              "2  2004-03-20  0.220511\n",
              "3  2004-03-21  0.176077\n",
              "4  2004-03-22  0.369441\n",
              "5  2004-03-23  0.285708\n",
              "6  2004-03-24  0.200177\n",
              "7     Average  0.244333"
            ]
          },
          "execution_count": 45,
          "metadata": {},
          "output_type": "execute_result"
        }
      ],
      "source": [
        "# Combine mape for all days and find avg(mape)\n",
        "mape_all = statistics.mean(mape_list)\n",
        "mape_list.append(mape_all)\n",
        "\n",
        "date_list.append('Average')\n",
        "\n",
        "error_df = pd.DataFrame(list(zip(date_list, mape_list)),\n",
        "                       columns = ['Date', 'MAPE'])\n",
        "\n",
        "error_df"
      ]
    },
    {
      "cell_type": "code",
      "execution_count": null,
      "id": "980599af",
      "metadata": {
        "id": "980599af",
        "outputId": "d3099ad2-6ef5-4c6b-f79f-8374cbac483c"
      },
      "outputs": [
        {
          "data": {
            "image/png": "[encoded data removed]",
            "text/plain": [
              "<Figure size 864x576 with 1 Axes>"
            ]
          },
          "metadata": {
            "needs_background": "light"
          },
          "output_type": "display_data"
        }
      ],
      "source": [
        "# plot predictions for CO\n",
        "index = dt_ts.index\n",
        "\n",
        "plt.figure(figsize=(12,8))\n",
        "plt.plot(index[168:], dt_ts[168:].values, color = 'r', label = 'true value')\n",
        "plt.plot(index[168:], pred_all, color = 'g', label = 'predictions')\n",
        "plt.title('Results')\n",
        "plt.xlabel('Time')\n",
        "plt.ylabel('Carbon Monoxide')\n",
        "plt.legend()\n",
        "plt.show()"
      ]
    },
    {
      "cell_type": "code",
      "execution_count": null,
      "id": "0bd4c50b",
      "metadata": {
        "id": "0bd4c50b"
      },
      "outputs": [],
      "source": [
        "# Generate output file with predictions added\n",
        "date_pred = [dt_ts.index[i] for i in range(168,336)]\n",
        "pred_all_list = [pred_all[i][0] for i in range(len(pred_all))]\n",
        "\n",
        "pred_dt = pd.DataFrame(list(zip(date_pred, pred_all_list)),\n",
        "                      columns = ['Date', 'CO_predict'])\n",
        "pred_dt.to_csv('co_pred.csv')"
      ]
    }
  ],
  "metadata": {
    "kernelspec": {
      "display_name": "Python 3 (ipykernel)",
      "language": "python",
      "name": "python3"
    },
    "language_info": {
      "codemirror_mode": {
        "name": "ipython",
        "version": 3
      },
      "file_extension": ".py",
      "mimetype": "text/x-python",
      "name": "python",
      "nbconvert_exporter": "python",
      "pygments_lexer": "ipython3",
      "version": "3.8.10"
    },
    "colab": {
      "name": "LSTM_CO_train_test.ipynb",
      "provenance": [],
      "collapsed_sections": []
    }
  },
  "nbformat": 4,
  "nbformat_minor": 5
}